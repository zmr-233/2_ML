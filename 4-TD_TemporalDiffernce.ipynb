{
 "cells": [
  {
   "cell_type": "code",
   "execution_count": 1,
   "id": "8b5404ac",
   "metadata": {},
   "outputs": [],
   "source": [
    "def clip(tmp1):\n",
    "    import subprocess\n",
    "    import shlex  # 导入 shlex 模块\n",
    "    # 使用 shlex.quote 来转义 inp 字符串\n",
    "    tmp2 = str(tmp1)\n",
    "    safe_str = shlex.quote(tmp2)\n",
    "    subprocess.run('echo {} | wclip'.format(safe_str), shell=True)  \n",
    "\n",
    "def cvin(k):\n",
    "    clip(In[k])\n",
    "    \n",
    "import numpy as np\n",
    "import matplotlib.pyplot as plt\n",
    "\n",
    "import time\n",
    "#from tqdm import tqdm  # tqdm是显示循环进度条的库\n",
    "from tqdm.notebook import tqdm #推荐在jupyter中使用自带的进度条\n",
    "\n",
    "np.random.seed(0) #重置种子为0\n",
    "\n",
    "import copy #复制方法\n",
    "#格式化输出\n",
    "np.set_printoptions(precision=3, suppress=True, linewidth=100)"
   ]
  },
  {
   "cell_type": "markdown",
   "id": "ea96ece2",
   "metadata": {},
   "source": [
    "#### 无模型的强化学习:\n",
    "动态规划算法要求马尔可夫决策过程是已知的，但通常状态转移概率是无法写出来的，只能和环境进行交互，采样数据，被称为**无模型的强化学习（model-free reinforcement learning）**\n",
    "无模型的强化学习中的两大经典算法：\n",
    "- Sarsa\n",
    "- Q-learning\n",
    "\n",
    "它们都是基于**时序差分（temporal difference，TD）**的强化学习算法\n",
    "引入一组概念：在线策略学习和离线策略学习:\n",
    "- 在线策略学习:要求使用在当前策略下采样得到的样本进行学习，一旦策略被更新，当前的样本就被放弃了\n",
    "- 离线策略学习:使用经验回放池将之前采样得到的样本收集起来再次利用，离线策略学习往往能够更好地利用历史数据，并具有更小的样本复杂度"
   ]
  },
  {
   "cell_type": "markdown",
   "id": "20ccc10c",
   "metadata": {},
   "source": [
    "## 时序差分算法：\n",
    "时序差分结合了蒙特卡洛和动态规划算法\n",
    "- 与蒙特卡洛相似：可以从样本数据中学习，不需要事先知道环境\n",
    "- 与动态规划相似：根据贝尔曼方程的思想，利用后续状态的价值估计来更新当前状态的价值估计\n",
    "\n",
    "主要使用公式从$V\\left(s_{t}\\right) \\leftarrow V\\left(s_{t}\\right)+\\alpha\\left[G_{t}-V\\left(s_{t}\\right)\\right]$变形而来，其中$\\alpha$为$ \\frac{1}{N(s)}$(取常数不再像蒙特卡洛严格取期望)，便得到了时序差分的公式：\n",
    "$$\n",
    "V\\left(s_{t}\\right) \\leftarrow V\\left(s_{t}\\right)+\\alpha\\left[r_{t}+\\gamma V\\left(s_{t+1}\\right)-V\\left(s_{t}\\right)\\right]\n",
    "$$\n",
    "其中$r_{t}+\\gamma V\\left(s_{t+1}\\right)-V\\left(s_{t}\\right)$被称作时序差分的**误差(error)**\n",
    "- $G_t$ 是基于实际经验的完整回报，需要等待整个轨迹完成后才能计算。\n",
    "- $R_t + \\gamma V(S_{t+1})$ 是一个估计的回报，它结合了实际观察到的奖励和对未来回报的估计。这允许我们在每一步之后立即更新值函数，而不需要等待整个轨迹完成。\n",
    "\n",
    "#### |附录：使用$r_{t}+\\gamma V\\left(s_{t+1}\\right)$代替$G_T$原因：\n",
    "$V(s) = \\mathbb{E}\\left[G_{t} \\mid S_{t}=s\\right]$\n",
    "\n",
    "$= \\mathbb{E}\\left[R_{t}+\\gamma R_{t+1}+\\gamma^{2} R_{t+2}+\\ldots \\mid S_{t}=s\\right]$\n",
    "\n",
    "$= \\mathbb{E}\\left[R_{t}+\\gamma\\left(R_{t+1}+\\gamma R_{t+2}+\\ldots\\right) \\mid S_{t}=s\\right]$\n",
    "\n",
    "$= \\mathbb{E}\\left[R_{t}+\\gamma G_{t+1} \\mid S_{t}=s\\right]$\n",
    "\n",
    "$= \\mathbb{E}\\left[R_{t}+\\gamma V\\left(S_{t+1}\\right) \\mid S_{t}=s\\right]$\n",
    "\n",
    "因此蒙特卡洛方法将上式第一行作为更新的目标，而时序差分算法将上式最后一行作为更新的目标\n",
    "1. **实际的回报 $G_t$**:\n",
    "   - $G_t$ 是从时间 $t$ 开始到轨迹结束的累积奖励的总和。它是实际观察到的奖励序列的折现和。\n",
    "   - 具体地说，$G_t = R_{t} + \\gamma R_{t+1} + \\gamma^2 R_{t+2} + \\ldots$。这是一个确定的值，因为它是基于实际经验（即智能体与环境的交互）得到的。\n",
    "   - 为了使用蒙特卡洛方法估计 $V(s)$，我们需要等待整个轨迹完成，然后计算 $G_t$。\n",
    "\n",
    "2. **当前的奖励 $R_t$ 和下一个状态的估计值 $V(S_{t+1})$**:\n",
    "   - 这是时序差分方法的核心。它结合了当前的奖励和下一个状态的值函数估计来更新当前状态的值函数。\n",
    "   - 具体地说，更新目标是 $R_t + \\gamma V(S_{t+1})$。这是一个估计的回报，因为它包括了对未来回报的估计（即 $V(S_{t+1})$）。\n",
    "   - 与蒙特卡洛方法不同，时序差分方法不需要等待整个轨迹完成。它可以在每一步之后立即更新值函数。\n",
    "\n"
   ]
  },
  {
   "cell_type": "markdown",
   "id": "2b291c29",
   "metadata": {},
   "source": [
    "### 1.Sarsa算法\n",
    "注意：推导这个式子不要直接用$ Q^{\\pi}(s, a) = r(s, a) + \\gamma \\sum_{s^{\\prime} \\in S} p\\left(s^{\\prime} \\mid s, a\\right) \\sum_{a^{\\prime} \\in A} \\pi\\left(a^{\\prime} \\mid s^{\\prime}\\right) Q^{\\pi}\\left(s^{\\prime}, a^{\\prime}\\right) $，相反要理解为平均值的增量公式，只是把N用$\\alpha$来表示：\n",
    "$$\n",
    "Q\\left(s_{t}, a_{t}\\right) \\leftarrow Q\\left(s_{t}, a_{t}\\right)+\\alpha\\left[r_{t}+\\gamma Q\\left(s_{t+1}, a_{t+1}\\right)-Q\\left(s_{t}, a_{t}\\right)\\right]\\\\\\\\\n",
    "argmax_aQ(s,a)\n",
    "$$\n",
    "这是一种 **广义策略迭代(generalized policy iteration)** 的思想，策略提升可以在策略评估未完成的情况下进行\n",
    "\n",
    "存在的问题：\n",
    "1. 需要极大量样本：基本上可以忽略这一点\n",
    "2. 一直贪婪会导致<s,a>可能不会出现：改进使用$\\epsilon$-贪婪策略\n",
    "\n",
    "#### $\\epsilon$-贪婪策略\n",
    "$$\n",
    "\\pi(a \\mid s)=\\left\\{\\begin{array}{ll}\\epsilon /|\\mathcal{A}|+1-\\epsilon & \\text { 如果 } a=\\arg \\max _{a^{\\prime}} Q\\left(s, a^{\\prime}\\right) \\\\ \\epsilon /|\\mathcal{A}| & \\text { 其他动作 }\\end{array}\\right.\n",
    "$$\n",
    "- 初始化 $Q(s, a)$\n",
    "- for 序列 $e=1 \\rightarrow E$ do:\n",
    "- ----得到初始状态 $s$\n",
    "- ----用 $\\epsilon$-greedy 策略根据 $Q$ 选择当前状态 $s$ 下的动作 $a$\n",
    "- ----for 时间步 $t=1 \\rightarrow T$ do :\n",
    "- --------得到环境反馈的 $r, s^{\\prime}$\n",
    "- --------用 $\\epsilon$-greedy 策略根据 $Q$ 选择当前状态 $s^{\\prime}$ 下的动作 $a^{\\prime}$\n",
    "- --------$Q(s, a) \\leftarrow Q(s, a)+\\alpha\\left[r+\\gamma Q\\left(s^{\\prime}, a^{\\prime}\\right)-Q(s, a)\\right]$\n",
    "- --------$s \\leftarrow s^{\\prime}, a \\leftarrow a^{\\prime}$\n",
    "- ----end for\n",
    "- end for\n"
   ]
  },
  {
   "cell_type": "markdown",
   "id": "b6625a9b",
   "metadata": {},
   "source": [
    "### CliffWalkEnv类\n",
    "|数据结构:\n",
    "- nrow 行数\n",
    "- ncol 列数\n",
    "- r_normal 普通奖励\n",
    "- r_cliff 悬崖奖励\n",
    "- A动作-上|下|左|右\n",
    "   A = [[0, -1], [0, 1], [-1, 0], [1, 0]] ,左上角为原点，行为y，列为x，四种动作\n",
    "- ~~P 转移矩阵res~~\n",
    "\n",
    "|方法：\n",
    "- iscliff 判断是否是悬崖\n",
    "- isend 判断是否是终点\n",
    "- ~~initP 初始化转移矩阵~~\n",
    "- ini_loc 获取起点@(row,col)\n",
    "- step(row,col,a) 执行一步\n",
    "   - 没有P\n",
    "   - next_x,next_y 下一位置\n",
    "   - next_s 下一状态\n",
    "   - reward 该动作的奖励\n",
    "   - flag 标志是否到达终点/悬崖"
   ]
  },
  {
   "cell_type": "code",
   "execution_count": 2,
   "id": "e421b229",
   "metadata": {},
   "outputs": [],
   "source": [
    "class CliffWalkEnv:\n",
    "    def __init__(self,nrow=4,ncol=12,*,r_normal = -1, r_cliff = -100):\n",
    "        self.nrow = nrow\n",
    "        self.ncol = ncol\n",
    "        self.r_normal = r_normal\n",
    "        self.r_cliff = r_cliff\n",
    "        self.A = [[0, -1], [0, 1], [-1, 0], [1, 0]] #上|下|左|右\n",
    "        self.P = None\n",
    "    \n",
    "    def isend(self,row,col):\n",
    "        return row == self.nrow-1 and col == self.ncol-1\n",
    "    \n",
    "    def iscliff(self,row,col):\n",
    "        return row == self.nrow-1 and col > 0 and col != self.ncol-1 \n",
    "    \n",
    "    def iniP(self):\n",
    "        pass\n",
    "    \n",
    "    def ini_loc(self):\n",
    "        return self.nrow - 1,0\n",
    "        \n",
    "    def step(self,row,col,a):\n",
    "        next_row = min(self.nrow - 1, max(0, row + self.A[a][0]))\n",
    "        next_col = min(self.ncol - 1, max(0, col + self.A[a][1]))\n",
    "        next_s = next_row * self.ncol + next_col\n",
    "        reward = self.r_normal\n",
    "        flag = False\n",
    "        if self.isend(next_row,next_col): flag = True #reward?\n",
    "        if self.iscliff(next_row,next_col): reward = self.r_cliff; flag = True\n",
    "        return (next_row,next_col,next_s,reward,flag)"
   ]
  },
  {
   "cell_type": "markdown",
   "id": "818366ad",
   "metadata": {},
   "source": [
    "### BotBase类\n",
    "数据结构：\n",
    "- env 环境\n",
    "- x,y 机器人所在坐标\n",
    "- l_epi 每条序列回报\n",
    "- n_epi 序列数量\n",
    "- n_tqdm 进度条数量\n",
    "\n",
    "方法：\n",
    "- init_s 初始化坐标，返回s\n",
    "- print_epi 使用plt进行绘制\n",
    "\n",
    "- cal_step(s0,a0,r,s1,a1) ->覆写：处理qsa累计\n",
    "- get_action(s) —>覆写：用于返回每一步骤的动作\n",
    "- run() —>覆写：执行n次数\n",
    "- ~~get_label ->覆写：用于给bot添加描述用的~~"
   ]
  },
  {
   "cell_type": "code",
   "execution_count": 3,
   "id": "87608026",
   "metadata": {},
   "outputs": [],
   "source": [
    "class BotBase:\n",
    "    def __init__(self,env,*,n_epi = 500,n_tqdm = 10):\n",
    "        self.env = env\n",
    "        self.nrow,self.ncol = env.nrow,env.ncol\n",
    "        self.n_A = len(env.A)\n",
    "        self.row, self.col = env.ini_loc()\n",
    "        self.l_epi = []\n",
    "        self.n_epi = n_epi\n",
    "        self.n_tqdm = n_tqdm\n",
    "    \n",
    "    def ini_s(self):\n",
    "        self.row,self.col = self.env.ini_loc()\n",
    "        return self.row * self.ncol + self.col\n",
    "    \n",
    "    def cal_step(self,s0,a0,r,s1,a1):\n",
    "        pass\n",
    "    \n",
    "    def get_action(self,s):\n",
    "        pass\n",
    "    \n",
    "    def run(self):\n",
    "        for i in range(self.n_tqdm):\n",
    "            with tqdm(total=int(self.n_epi/self.n_tqdm),desc = 'Iter %d#'% i) as pbar:\n",
    "                for i_epi in range(int(self.n_epi/self.n_tqdm)):\n",
    "                    epi = 0\n",
    "                    s = self.ini_s()\n",
    "                    a = self.get_action(s)\n",
    "                    flag = False\n",
    "                    while not flag:\n",
    "                        next_row,next_col,next_s,reward,flag = self.env.step(self.row,self.col,a)\n",
    "                        next_a = self.get_action(s)\n",
    "                        self.cal_step(s,a,reward,next_s,next_a)\n",
    "                        self.row,self.col,s,a = next_row,next_col,next_s,next_a\n",
    "                        epi += reward #计算的奖励\n",
    "                    self.l_epi.append(epi)\n",
    "                    if (i_epi + 1) % self.n_tqdm == 0:\n",
    "                        pbar.set_postfix({\n",
    "                            'episode':\n",
    "                            '%d' % (self.n_epi / self.n_tqdm * i + i_epi+ 1),\n",
    "                            'return':\n",
    "                            '%.3f' % np.mean(self.l_epi[-10:])\n",
    "                        })\n",
    "                    pbar.update(1)\n",
    "    \n",
    "    def print_epi(self):\n",
    "        plt.plot(list(range(len(self.l_epi))), self.l_epi)\n",
    "        plt.xlabel('Episodes')\n",
    "        plt.ylabel('Returns')\n",
    "        plt.title('Sarsa on {}'.format('Cliff Walking'))\n",
    "        plt.show()"
   ]
  },
  {
   "cell_type": "markdown",
   "id": "2d5b131f",
   "metadata": {},
   "source": [
    "### Sarsa类\n",
    "数据结构：\n",
    "- Qsa 动作期望\n",
    "- alpha 学习率\n",
    "- gamma 折扣因子\n",
    "- epsilon 贪婪策略中的参数\n",
    "\n",
    "方法:\n",
    "- get_alpha 获取学习率\n",
    "- get_epsilon 贪婪策略中的参数\n",
    "- get_Pis(s) 获取s下最佳策略 @Pis\n",
    "- get_Pi 获取策略 @Pi\n",
    "\n",
    "- cal_step(s0,a0,r,s1,a1) ->覆写：处理qsa累计\n",
    "- get_action(s) —>覆写：用于返回每一步骤的动作"
   ]
  },
  {
   "cell_type": "code",
   "execution_count": 4,
   "id": "5279e7c3",
   "metadata": {},
   "outputs": [],
   "source": [
    "class Sarsa(BotBase):\n",
    "    def __init__(self,env,*,n_epi = 500,n_tqdm = 10,\n",
    "                 alpha=0.1,gamma=0.9,epsilon=0.1):\n",
    "        super().__init__(env, n_epi=n_epi, n_tqdm=n_tqdm)\n",
    "        self.Qsa = np.zeros([env.nrow * env.ncol,len(env.A)])\n",
    "        self.ini_alpha = alpha\n",
    "        self.ini_gamma = gamma\n",
    "        self.ini_epsilon = epsilon\n",
    "        \n",
    "    def get_alpha(self):\n",
    "        return self.ini_alpha\n",
    "    \n",
    "    def get_gamma(self):\n",
    "        return self.ini_gamma\n",
    "    \n",
    "    def get_epsilon(self):\n",
    "        return self.ini_epsilon\n",
    "    \n",
    "    def cal_step(self,s0,a0,r,s1,a1):\n",
    "        gamma,alpha= self.get_gamma(),self.get_alpha()\n",
    "        td_error = r + gamma * self.Qsa[s1,a1] - self.Qsa[s0,a0]\n",
    "        self.Qsa[s0,a0] += alpha * td_error\n",
    "    \n",
    "    def get_action(self,s):\n",
    "        epsilon = self.get_epsilon()\n",
    "        if np.random.rand() < epsilon:\n",
    "            return np.random.randint(self.n_A)\n",
    "        else:\n",
    "            return np.argmax(self.Qsa[s])\n",
    "    \n",
    "    def get_Pis(self,s):\n",
    "        Qmax = np.max(self.Qsa[s])\n",
    "        a = [0 for _ in range(self.n_A)]\n",
    "        for i in range(self.n_A):\n",
    "            if self.Qsa[s][i] == Qmax:\n",
    "                a[i] = 1\n",
    "        return a\n",
    "    \n",
    "    def get_Pi(self):\n",
    "        return [self.get_Pis(s) for s in range(self.nrow * self.ncol)]"
   ]
  },
  {
   "cell_type": "code",
   "execution_count": 5,
   "id": "70651c01",
   "metadata": {},
   "outputs": [],
   "source": [
    "env = CliffWalkEnv(4,12)\n",
    "bot = Sarsa(env)"
   ]
  },
  {
   "cell_type": "code",
   "execution_count": 6,
   "id": "0b6bb71b",
   "metadata": {},
   "outputs": [
    {
     "data": {
      "application/vnd.jupyter.widget-view+json": {
       "model_id": "db73a46083b34c88807860ecfd092595",
       "version_major": 2,
       "version_minor": 0
      },
      "text/plain": [
       "Iter 0#:   0%|          | 0/50 [00:00<?, ?it/s]"
      ]
     },
     "metadata": {},
     "output_type": "display_data"
    },
    {
     "data": {
      "application/vnd.jupyter.widget-view+json": {
       "model_id": "9a59c3f3d20f47dd9b6f40a94f3a2f86",
       "version_major": 2,
       "version_minor": 0
      },
      "text/plain": [
       "Iter 1#:   0%|          | 0/50 [00:00<?, ?it/s]"
      ]
     },
     "metadata": {},
     "output_type": "display_data"
    },
    {
     "data": {
      "application/vnd.jupyter.widget-view+json": {
       "model_id": "51aeb8990aeb4046929f73964f8fa00f",
       "version_major": 2,
       "version_minor": 0
      },
      "text/plain": [
       "Iter 2#:   0%|          | 0/50 [00:00<?, ?it/s]"
      ]
     },
     "metadata": {},
     "output_type": "display_data"
    },
    {
     "data": {
      "application/vnd.jupyter.widget-view+json": {
       "model_id": "77d0628ddb8d418db9714d5a96549b84",
       "version_major": 2,
       "version_minor": 0
      },
      "text/plain": [
       "Iter 3#:   0%|          | 0/50 [00:00<?, ?it/s]"
      ]
     },
     "metadata": {},
     "output_type": "display_data"
    },
    {
     "data": {
      "application/vnd.jupyter.widget-view+json": {
       "model_id": "b5ab9d9ebb054806b49902d52fded107",
       "version_major": 2,
       "version_minor": 0
      },
      "text/plain": [
       "Iter 4#:   0%|          | 0/50 [00:00<?, ?it/s]"
      ]
     },
     "metadata": {},
     "output_type": "display_data"
    },
    {
     "data": {
      "application/vnd.jupyter.widget-view+json": {
       "model_id": "fcb874526ab6471194e86e50f0b241db",
       "version_major": 2,
       "version_minor": 0
      },
      "text/plain": [
       "Iter 5#:   0%|          | 0/50 [00:00<?, ?it/s]"
      ]
     },
     "metadata": {},
     "output_type": "display_data"
    },
    {
     "data": {
      "application/vnd.jupyter.widget-view+json": {
       "model_id": "9bbd70441a5948d7b17022497181cc14",
       "version_major": 2,
       "version_minor": 0
      },
      "text/plain": [
       "Iter 6#:   0%|          | 0/50 [00:00<?, ?it/s]"
      ]
     },
     "metadata": {},
     "output_type": "display_data"
    },
    {
     "data": {
      "application/vnd.jupyter.widget-view+json": {
       "model_id": "8afbb5f049eb4200bf4ead7b1a55adcf",
       "version_major": 2,
       "version_minor": 0
      },
      "text/plain": [
       "Iter 7#:   0%|          | 0/50 [00:00<?, ?it/s]"
      ]
     },
     "metadata": {},
     "output_type": "display_data"
    },
    {
     "data": {
      "application/vnd.jupyter.widget-view+json": {
       "model_id": "668674e1eb3a4f67b17eba4215a040e9",
       "version_major": 2,
       "version_minor": 0
      },
      "text/plain": [
       "Iter 8#:   0%|          | 0/50 [00:00<?, ?it/s]"
      ]
     },
     "metadata": {},
     "output_type": "display_data"
    },
    {
     "data": {
      "application/vnd.jupyter.widget-view+json": {
       "model_id": "f7a211a7a7584f858e66ad95fd2d2e42",
       "version_major": 2,
       "version_minor": 0
      },
      "text/plain": [
       "Iter 9#:   0%|          | 0/50 [00:00<?, ?it/s]"
      ]
     },
     "metadata": {},
     "output_type": "display_data"
    }
   ],
   "source": [
    "bot.run()"
   ]
  },
  {
   "cell_type": "code",
   "execution_count": 7,
   "id": "4a456904",
   "metadata": {},
   "outputs": [
    {
     "data": {
      "image/png": "[encoded data removed]",
      "text/plain": [
       "<Figure size 640x480 with 1 Axes>"
      ]
     },
     "metadata": {},
     "output_type": "display_data"
    }
   ],
   "source": [
    "bot.print_epi()"
   ]
  },
  {
   "cell_type": "code",
   "execution_count": 8,
   "id": "823df735",
   "metadata": {},
   "outputs": [],
   "source": [
    "def draw_agent(agent, *, action_meaning=['^', 'v', '<', '>']):\n",
    "    agent.Pi = agent.get_Pi()\n",
    "    fig, ax = plt.subplots(figsize=(10, 10))\n",
    "    k = agent.env.ncol\n",
    "    action_arrows = [(0, -1), (0, 1), (-1, 0), (1, 0)]  # Adjusting for the flipped y-axis\n",
    "    \n",
    "    for i in range(agent.env.nrow):\n",
    "        for j in range(agent.env.ncol):\n",
    "            if agent.env.iscliff(i, j):\n",
    "                ax.text(j, i, \"****\", ha='center', va='center', color='red')\n",
    "            elif agent.env.isend(i, j):\n",
    "                ax.text(j, i, \"EEEE\", ha='center', va='center', color='green')\n",
    "            else:\n",
    "                a = agent.Pi[i * k + j]\n",
    "                for idx, prob in enumerate(a):\n",
    "                    if prob > 0:  # Assuming deterministic policy\n",
    "                        dx, dy = action_arrows[idx]\n",
    "                        ax.arrow(j, i, dx * 0.3, dy * 0.3, head_width=0.2, head_length=0.2)\n",
    "\n",
    "    ax.set_xticks(np.arange(0, agent.env.ncol, 1))\n",
    "    ax.set_yticks(np.arange(0, agent.env.nrow, 1))\n",
    "    ax.set_xticklabels([])\n",
    "    ax.set_yticklabels([])\n",
    "    ax.grid(which='both')\n",
    "    ax.set_aspect('equal')\n",
    "    plt.gca().invert_yaxis()  # Inverting the y-axis for correct representation\n",
    "    plt.show()"
   ]
  },
  {
   "cell_type": "code",
   "execution_count": 9,
   "id": "2e3b1078",
   "metadata": {
    "scrolled": true
   },
   "outputs": [
    {
     "data": {
      "image/png": "[encoded data removed]",
      "text/plain": [
       "<Figure size 1000x1000 with 1 Axes>"
      ]
     },
     "metadata": {},
     "output_type": "display_data"
    }
   ],
   "source": [
    "draw_agent(bot)"
   ]
  },
  {
   "cell_type": "code",
   "execution_count": 10,
   "id": "cf386c7b",
   "metadata": {},
   "outputs": [],
   "source": [
    "def print_agent(agent,*, action_meaning=['^', 'v', '<', '>']):\n",
    "    agent.Pi = agent.get_Pi()\n",
    "    print(\"状态价值：\")\n",
    "    k = agent.env.ncol\n",
    "    print(\"策略：\")\n",
    "    for i in range(agent.env.nrow):\n",
    "        for j in range(agent.env.ncol):\n",
    "            # 一些特殊的状态,例如悬崖漫步中的悬崖\n",
    "            if agent.env.iscliff(i,j) :\n",
    "                print('****', end=' ')\n",
    "            elif agent.env.isend(i,j) :  # 目标状态\n",
    "                print('EEEE', end=' ')\n",
    "            else:\n",
    "                a = agent.Pi[i * k + j]\n",
    "                pi_str = ''\n",
    "                for ij in range(len(action_meaning)):\n",
    "                    pi_str += action_meaning[ij] if a[ij] > 0 else 'o'\n",
    "                print(pi_str, end=' ')\n",
    "        print()     "
   ]
  },
  {
   "cell_type": "code",
   "execution_count": 11,
   "id": "1c010f32",
   "metadata": {},
   "outputs": [
    {
     "name": "stdout",
     "output_type": "stream",
     "text": [
      "状态价值：\n",
      "策略：\n",
      "ovoo ovoo ovoo ovoo ovoo ovoo oo<o ovoo ovoo ovoo ovoo ooo> \n",
      "oo<o oo<o oo<o oo<o ^ooo oo<o ovoo oo<o ^ooo oo<o ^ooo ooo> \n",
      "^ooo oo<o ^ooo ovoo oo<o ^ooo oo<o ovoo oo<o ^ooo ovoo ooo> \n",
      "oo<o **** **** **** **** **** **** **** **** **** **** EEEE \n"
     ]
    }
   ],
   "source": [
    "print_agent(bot)"
   ]
  },
  {
   "cell_type": "code",
   "execution_count": null,
   "id": "279a020b",
   "metadata": {},
   "outputs": [],
   "source": []
  }
 ],
 "metadata": {
  "kernelspec": {
   "display_name": "Python 3 (ipykernel)",
   "language": "python",
   "name": "python3"
  },
  "language_info": {
   "codemirror_mode": {
    "name": "ipython",
    "version": 3
   },
   "file_extension": ".py",
   "mimetype": "text/x-python",
   "name": "python",
   "nbconvert_exporter": "python",
   "pygments_lexer": "ipython3",
   "version": "3.11.5"
  }
 },
 "nbformat": 4,
 "nbformat_minor": 5
}
