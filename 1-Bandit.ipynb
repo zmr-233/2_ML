{
 "cells": [
  {
   "cell_type": "markdown",
   "id": "d17f7f0f",
   "metadata": {},
   "source": [
    "# 多臂老虎机\n",
    "#### 定义一个老虎机\n",
    "实现如下功能：\n",
    "- step 返回获奖的值：只有0/1两种\n",
    "- best_id\n",
    "- best_max"
   ]
  },
  {
   "cell_type": "markdown",
   "id": "63a39c93",
   "metadata": {},
   "source": [
    "#### 前置：复制函数\n",
    "用于复制到剪贴板"
   ]
  },
  {
   "cell_type": "code",
   "execution_count": 1,
   "id": "7bc47bf7",
   "metadata": {},
   "outputs": [],
   "source": [
    "def clip(tmp1):\n",
    "    import subprocess\n",
    "    import shlex  # 导入 shlex 模块\n",
    "    # 使用 shlex.quote 来转义 inp 字符串\n",
    "    tmp2 = str(tmp1)\n",
    "    safe_str = shlex.quote(tmp2)\n",
    "    subprocess.run('echo {} | wclip'.format(safe_str), shell=True)  \n",
    "\n",
    "def cvin(k):\n",
    "    clip(In[k])"
   ]
  },
  {
   "cell_type": "code",
   "execution_count": 2,
   "id": "54914be8",
   "metadata": {},
   "outputs": [],
   "source": [
    "import numpy as np\n",
    "import matplotlib.pyplot as plt"
   ]
  },
  {
   "cell_type": "code",
   "execution_count": 3,
   "id": "d557d32f",
   "metadata": {},
   "outputs": [],
   "source": [
    "class Bandit:\n",
    "    def __init__(self,k): #k代表个数\n",
    "        self.k = k\n",
    "        self.prob = np.random.uniform(size=k)\n",
    "        self.best_id = np.argmax(self.prob)\n",
    "        self.best_prob = self.prob[self.best_id]\n",
    "    \n",
    "    def step(self,k): #k代表选择的拉杆\n",
    "        if np.random.rand() < self.prob[k]:\n",
    "            return 1\n",
    "        else:\n",
    "            return 0"
   ]
  },
  {
   "cell_type": "markdown",
   "id": "28f77979",
   "metadata": {},
   "source": [
    "**测试代码如下**\n",
    "```python\n",
    "np.random.seed(1)\n",
    "bandit = Bandit(10)\n",
    "print(bandit.prob)\n",
    "print(bandit.best_id,bandit.best_prob)\n",
    "```"
   ]
  },
  {
   "cell_type": "markdown",
   "id": "3fa10b8c",
   "metadata": {},
   "source": [
    "### 定义机器人如下\n",
    "具有如下数据结构:\n",
    "- bandit 要执行的老虎机\n",
    "- count 执行的总次数\n",
    "- regret 总懊悔\n",
    "- l_action 每一步骤的动作\n",
    "- l_regret 每一步骤的累计懊悔\n",
    "\n",
    "具有如下的方法\n",
    "- cal_step 处理懊悔&动作&计数\n",
    "- get_action —>覆写：用于返回每一步骤的动作\n",
    "- run(n) 执行n次数\n",
    "- get_label ->覆写：用于给bot添加描述用的"
   ]
  },
  {
   "cell_type": "code",
   "execution_count": 4,
   "id": "fc175ebd",
   "metadata": {},
   "outputs": [],
   "source": [
    "class BotBase:\n",
    "    def __init__(self,bandit):\n",
    "        self.bandit = bandit\n",
    "        self.count = 0\n",
    "        self.regret = 0\n",
    "        self.l_action = []\n",
    "        self.l_regret = []\n",
    "    \n",
    "    def cal_step(self,k): #k为当次选择\n",
    "        self.regret += self.bandit.best_prob-self.bandit.prob[k]\n",
    "        self.l_regret.append(self.regret)\n",
    "        self.l_action.append(k)\n",
    "        self.count+=1\n",
    "    \n",
    "    def get_action(self):\n",
    "        return 0\n",
    "    \n",
    "    def run(self,n):\n",
    "        for _ in range(n):\n",
    "            k = self.get_action()\n",
    "            self.cal_step(k)\n",
    "    \n",
    "    def get_label(self):\n",
    "        return 'BotBase'"
   ]
  },
  {
   "cell_type": "markdown",
   "id": "a445aedd",
   "metadata": {},
   "source": [
    "### plt绘制函数\n",
    "用于绘制图形，接收Bots，并自动以特征值`get_label`作为名称"
   ]
  },
  {
   "cell_type": "code",
   "execution_count": 5,
   "id": "5e5b1353",
   "metadata": {},
   "outputs": [],
   "source": [
    "def plot_regret(bots):\n",
    "    for bot in bots:\n",
    "        time_list = range(len(bot.l_regret))\n",
    "        plt.plot(time_list,bot.l_regret,label=bot.get_label())\n",
    "    plt.xlabel('Run times')\n",
    "    plt.ylabel('Regret value')\n",
    "    plt.title('Bandit|k=%d'% bots[0].bandit.k)\n",
    "    plt.legend()\n",
    "    plt.show()"
   ]
  },
  {
   "cell_type": "markdown",
   "id": "a91eda0e",
   "metadata": {},
   "source": [
    "#### 测试plt绘制函数&BotBase代码\n",
    "```python\n",
    "bandit = Bandit(10)\n",
    "bots = BotBase(bandit)\n",
    "bots.run(100)\n",
    "plot_regret([bots])\n",
    "```"
   ]
  },
  {
   "cell_type": "markdown",
   "id": "23df2917",
   "metadata": {},
   "source": [
    "\n"
   ]
  },
  {
   "cell_type": "markdown",
   "id": "ca877718",
   "metadata": {},
   "source": [
    "---"
   ]
  },
  {
   "cell_type": "markdown",
   "id": "3063471a",
   "metadata": {},
   "source": [
    "### 期望\n",
    "期望是概率论和统计学中的一个核心概念。对于随机变量，其期望提供了一个中心或平均值的度量。以下是对您问题的详细解答：\n",
    "\n",
    "1. **什么是期望？**\n",
    "   期望（或平均、均值）是随机变量可能取到的每个值与其对应概率的乘积的和。对于离散随机变量 $X$，其期望定义为：\n",
    "    $$\\mathbb{E}[X] = \\sum_{i} x_i p(x_i)$$\n",
    "   其中，$x_i$是 $X$ 可能取到的每一个值，而 $p(x_i)$ 是$X$取到$x_i$ 的概率。\n",
    "\n",
    "   对于连续随机变量，期望定义为一个积分：\n",
    "   $$\\mathbb{E}[X] = \\int x f(x) \\, dx$$\n",
    "   其中，\\(f(x)\\) 是 \\(X\\) 的概率密度函数。\n",
    "\n",
    "2. **如何对$I(X \\geq a)$取期望：**\n",
    "$$\\mathbb{E}[I(X \\geq a)] = 1 \\times P(X \\geq a) + 0 \\times P(X < a) = P(X \\geq a)$$\n"
   ]
  },
  {
   "cell_type": "markdown",
   "id": "69d18281",
   "metadata": {},
   "source": [
    "---"
   ]
  },
  {
   "cell_type": "markdown",
   "id": "565ea92a",
   "metadata": {},
   "source": [
    "### Markov不等式\n",
    "#### 提供了大于某个值概率的上界\n",
    "Markov不等式为非负随机变量与其期望之间的关系提供了一个界限。它是概率论中的基础。\n",
    "\n",
    "**Markov不等式的陈述**：\n",
    "\n",
    "对于任何非负随机变量$X$ 和任何正数$a > 0$，有：\n",
    "\n",
    "$$\\mathbb{P}(X \\geq a) \\leq \\frac{\\mathbb{E}[X]}{a}$$\n",
    "\n",
    "其中，$\\mathbb{P}(X \\geq a)$ 表示随机变量 $X$ 大于或等于 $a$的概率，而$\\mathbb{E}[X]$ 表示 $X$的期望值。\n",
    "\n",
    "**直观理解**：\n",
    "\n",
    "Markov不等式提供了一个上界，说明随机变量$X$ 取大于某个值 $a$ 的概率不会超过 $X$ 的期望值与 $a$ 的比值。例如，一个随机变量的期望是5，那么它的值大于或等于10的概率不超过0.5。\n",
    "\n",
    "**应用**：\n",
    "\n",
    "Markov不等式经常被用作其他更复杂的不等式（如Chebyshev不等式或霍夫丁不等式）的起点或中间步骤。它为随机变量和其期望之间的关系提供了一个粗略的界限，尤其是当我们对随机变量的分布知之甚少时。\n"
   ]
  },
  {
   "cell_type": "markdown",
   "id": "7fc19009",
   "metadata": {},
   "source": [
    "\n",
    "**证明**：\n",
    "\n",
    "考虑一个非负随机变量 $X$ 和一个正数 $a > 0$。\n",
    "\n",
    "1. 定义一个指示函数 $I(X \\geq a)$。这个函数的值为1当 $X \\geq a$，否则为0。换句话说，它表示事件 $X \\geq a$ 是否发生。\n",
    "\n",
    "2. 注意到，因为 $X$ 是非负的，我们有：\n",
    "\n",
    "$$X \\geq a \\times I(X \\geq a)$$\n",
    "\n",
    "这是因为当 $X \\geq a$ 时，指示函数的值为1，所以上述不等式成立。当 $X < a$ 时，指示函数的值为0，所以不等式同样成立。\n",
    "\n",
    "3. 对上述不等式取期望，我们得到：\n",
    "\n",
    "$$\\mathbb{E}[X] \\geq a \\times \\mathbb{E}[I(X \\geq a)]$$\n",
    "\n",
    "4. 注意到，$\\mathbb{E}[I(X \\geq a)]$ 实际上是事件 $X \\geq a$ 的概率，即 $\\mathbb{P}(X \\geq a)$。\n",
    "\n",
    "因此，我们可以写为：\n",
    "\n",
    "$$\\mathbb{E}[X] \\geq a \\times \\mathbb{P}(X \\geq a)$$\n",
    "\n",
    "5. 重新整理上述不等式，我们得到Markov不等式：\n",
    "\n",
    "$$\\mathbb{P}(X \\geq a) \\leq \\frac{\\mathbb{E}[X]}{a}$$\n",
    "\n",
    "这就完成了Markov不等式的证明。如您所见，这个证明是基于概率和期望的基本性质，特别是指示函数的期望与概率之间的关系。"
   ]
  },
  {
   "cell_type": "markdown",
   "id": "15c5ff1f",
   "metadata": {},
   "source": [
    "Markov不等式本身不是对称的，因为它特别地考虑了非负随机变量$X$的上界。具体地说，Markov不等式为：\n",
    "\n",
    "$$\n",
    "\\mathbb{P}(X \\geq a) \\leq \\frac{\\mathbb{E}[X]}{a}\n",
    "$$\n",
    "\n",
    "当考虑$\\mathbb{P}(X \\leq a)$时，Markov不等式并不直接适用。\n",
    "\n",
    "但是，如果您对随机变量做一个转换，例如考虑$-X$，那么您可以利用Markov不等式来得到一个界。假设$X$是非负的，并且您对$-X$感兴趣，则$-X$将是非正的。在这种情况下，您可以考虑随机变量$-X$和正数$-a$，并应用Markov不等式。\n",
    "\n",
    "应用Markov不等式给出：\n",
    "\n",
    "$$\n",
    "\\mathbb{P}(-X \\geq -a) \\leq \\frac{\\mathbb{E}[-X]}{-a}\n",
    "$$\n",
    "\n",
    "这就是说：\n",
    "\n",
    "$$\n",
    "\\mathbb{P}(X \\leq a) \\leq \\frac{-\\mathbb{E}[X]}{a}\n",
    "$$\n",
    "\n",
    "但请注意，这个不等式不会提供很多信息，除非您有关于$\\mathbb{E}[X]$（期望值是负的）的额外知识。在大多数实际应用中，如果知道随机变量是非负的，那么对于$\\mathbb{P}(X \\leq a)$的界，人们通常会使用其他方法或不等式，如Chebyshev不等式。\n"
   ]
  },
  {
   "cell_type": "markdown",
   "id": "7b95d64d",
   "metadata": {},
   "source": [
    "---"
   ]
  },
  {
   "cell_type": "markdown",
   "id": "6a9f7df9",
   "metadata": {},
   "source": [
    "### Chebyshev不等式\n",
    "Chebyshev不等式为随机变量与其期望和方差之间的关系提供了一个界限。它是概率论中的一个基本工具，可以应用于任何随机变量，无论其分布如何。\n",
    "\n",
    "**Chebyshev不等式的陈述**：\n",
    "\n",
    "对于任何随机变量 $X$（不一定是非负的），其期望为 $\\mu = \\mathbb{E}[X]$ 且方差为 $\\sigma^2 = \\text{Var}(X)$（其中 $\\sigma$ 是标准差），对于任何正数 $k$，有：\n",
    "\n",
    "$$\n",
    "\\mathbb{P}(|X - \\mu| \\geq k\\sigma) \\leq \\frac{1}{k^2}\n",
    "$$\n",
    "\n",
    "**直观理解**：\n",
    "\n",
    "Chebyshev不等式告诉我们，随机变量 $X$ 的值与其期望 $\\mu$ 相差 $k$ 个标准差或更多的概率不会超过 $1/k^2$。换言之，大部分的随机取值都会集中在其期望的一个较小的范围内。\n",
    "\n",
    "**应用**：\n",
    "\n",
    "Chebyshev不等式经常被用于当我们对随机变量的分布知之甚少或没有具体知识时。它为随机变量与其期望和方差之间的关系提供了一个普适的界限。\n",
    "\n",
    "例如，考虑一个未知分布的随机变量，但我们知道其期望和方差。即使我们不知道此随机变量的具体分布，Chebyshev不等式也可以告诉我们该随机变量取值与其期望相差很远的概率是多少。这使其成为一种非常有用的工具，特别是在初步数据分析和统计建模中。\n"
   ]
  },
  {
   "cell_type": "markdown",
   "id": "2072c47d",
   "metadata": {},
   "source": [
    "---"
   ]
  },
  {
   "cell_type": "markdown",
   "id": "8987af92",
   "metadata": {},
   "source": [
    "### 霍夫丁不等式\n",
    "霍夫丁不等式（Hoeffding's inequality）是概率论中的一个重要结果，它为独立随机变量的累加和提供了一个界。这个不等式在统计学、机器学习和其他许多领域都有广泛的应用，特别是在处理大量随机样本时。\n",
    "\n",
    "不等式的基本形式是这样的：\n",
    "\n",
    "假设你有一系列独立同分布的随机变量 $X_1, X_2, \\ldots, X_n$，它们的值都落在一个固定的区间内，例如 [0,1]。每个随机变量的期望是 $\\mu$。定义经验均值为：\n",
    "\n",
    "$$\\bar{X}_n = \\frac{1}{n} \\sum_{i=1}^{n} X_i$$\n",
    "\n",
    "那么，对于任何正值 \\(t\\)，霍夫丁不等式给出了经验均值与期望之间差异超过 $t$ 的概率：\n",
    "$$P(|\\bar{X}_n - \\mu| \\geq t) \\leq 2 \\exp(-2nt^2)$$\n",
    "\n",
    "霍夫丁不等式的意义在于，它告诉我们：**当我们观察到越来越多的随机变量时，这些随机变量的平均值将以高概率接近其期望值。这为我们提供了一种度量“信心”的方法**：\n",
    "——即我们有多大的信心认为经验均值与真实的期望值之间的差异不会超过一个给定的阈值。"
   ]
  },
  {
   "cell_type": "markdown",
   "id": "3c6c1205",
   "metadata": {},
   "source": [
    "霍夫丁不等式的证明通常涉及一些概率论和测度论的知识，但我会尽量简洁明了地为您解释其基本思想。\n",
    "\n",
    "假设我们有一系列独立同分布的随机变量 $X_1, X_2, \\ldots, X_n$，它们的值都落在一个固定的区间内，例如 [0,1]。\n",
    "\n",
    "**证明思路**:\n",
    "\n",
    "1. **使用指数技巧**:\n",
    "   为了证明霍夫丁不等式，我们首先考虑某一随机变量 $X_i$ 的指数形式。考虑 $e^{tX_i}$ 的期望，其中 $t$ 是一个正数。\n",
    "\n",
    "2. **利用Markov不等式**:\n",
    "   Markov不等式是概率论中的一个基本工具，它提供了随机变量与其期望之间的关系。对于非负的随机变量 $Z$ 和任意的正数 $a$，Markov不等式是这样的：\n",
    "\n",
    "   $$\n",
    "   \\mathbb{P}\\{Z \\geq a\\} \\leq \\frac{\\mathbb{E}[Z]}{a}\n",
    "   $$\n",
    "\n",
    "   我们会利用这个不等式处理 $e^{tX_i}$ 的期望。\n",
    "\n",
    "3. **联合上述两点**:\n",
    "   使用Markov不等式和指数形式的期望，我们可以为单个 $X_i$ 得到一个不等式。然后，我们将这些不等式组合起来，考虑所有的 $X_1, X_2, \\ldots, X_n$，并使用它们的独立性。\n",
    "\n",
    "4. **最终形式**:\n",
    "   通过整合上述步骤，我们可以得到霍夫丁不等式的最终形式，它为随机变量的累加和提供了一个界。\n",
    "\n",
    "这只是证明的一个高层次概述。实际的证明涉及更多的技巧和细节。但希望这可以给您一个关于霍夫丁不等式如何得到的大致了解。如果您想深入了解具体的证明细节，可以查阅相关的概率论和统计学教材。\n"
   ]
  },
  {
   "cell_type": "markdown",
   "id": "20062d53",
   "metadata": {},
   "source": [
    "[霍夫丁不等式严格证明](https://zhuanlan.zhihu.com/p/350169020)\n",
    "#### 在知乎上，马尔科夫不等式：\n",
    "$$ E(X)=\\int_{0}^{+\\infty} x f(x) d x \\geq \\int_{\\varepsilon}^{+\\infty} x f(x) d x \\geq \\varepsilon \\int_{\\varepsilon}^{+\\infty} f(x) d x=\\varepsilon P(X \\geq \\varepsilon) $$\n",
    "这种方法的思想是只考虑那些值大于或等于$\\varepsilon$的部分\n",
    "\n",
    "[霍夫丁不等式其他证明](https://www.cnblogs.com/qizhou/p/12843557.html)"
   ]
  },
  {
   "cell_type": "markdown",
   "id": "07523359",
   "metadata": {},
   "source": [
    "---"
   ]
  },
  {
   "cell_type": "markdown",
   "id": "93ec5270",
   "metadata": {},
   "source": [
    "该版本考虑了经验均值与期望值之间差异的上下界。现在对上述霍夫丁不等式进行变形，将$\\mu$更改为$\\mathbb{E}[X]$，将$t$更改为$\\mu$，着重于经验均值与期望之间的差异的上界:\n",
    "由于随机变量是对称的（在 [0,1] 区间内），我们可以得到：\n",
    "$$\\mathbb{P}\\left\\{\\mathbb{E}[X] - \\bar{x}_{n} \\geq u\\right\\} \\leq e^{-2 n u^{2}}$$\n",
    "\n",
    "现在我们得到了想要的东西：\n",
    "它告诉我们：**当我们观察到越来越多的随机变量时，这些随机变量的平均值将以高概率接近其期望值。这为我们提供了一种度量“信心”的方法**：\n",
    "——即我们有多大的信心认为经验均值$\\bar{x}_{n}$与真实的期望值$\\mathbb{E}[X]$之间的差异不会超过一个给定的阈值$\\mu$"
   ]
  },
  {
   "cell_type": "markdown",
   "id": "00e6685a",
   "metadata": {},
   "source": [
    "#### 参数解释\n",
    "1. $X_{1}, \\ldots, X_{n}$:\n",
    "   这些是随机变量，通常表示一些随机的观测或实验结果。在这里，我们有 $n$ 个这样的随机变量，每一个都是独立的并且具有相同的分布。\n",
    "\n",
    "2. $\\bar{x}_{n}=\\frac{1}{n} \\sum_{j=1}^{n} X_{j}$:\n",
    "   这是计算这些随机变量的平均值或期望值的方法。具体来说，我们将所有 $X$ 值相加，然后除以它们的数量 $n$。\n",
    "\n",
    "3. $\\mathbb{P}\\left\\{\\mathbb{E}[X] \\geq \\bar{x}_{n}+u\\right\\} \\leq e^{-2 n u^{2}}$:\n",
    "   这是霍夫丁不等式。简单来说，它给出了真实的期望值 $\\mathbb{E}[X]$ 与观测到的平均值 $\\bar{x}_{n}$ 之间的差异超过某个值 $u$ 的概率。\n",
    "\n",
    "4. $\\hat{Q}_{t}(a)$:\n",
    "   这代表某个动作 $a$ 在时间 $t$ 的估计奖励值。\n",
    "\n",
    "5. $u=\\hat{U}_{t}(a)$:\n",
    "   这是不确定性度量，表示我们对动作 $a$ 的奖励估计的不确定性。\n",
    "\n",
    "6. $p=e^{-2 N_{t}(a) U_{t}(a)^{2}}$:\n",
    "   这是一个概率，表示估计的奖励值与真实的奖励值之间的差异超过不确定性度量的概率。\n",
    "\n",
    "7. $\\hat{U}_{t}(a)=\\sqrt{\\frac{-\\log p}{2 N_{t}(a)}}$:\n",
    "   这是根据给定的概率 $p$ 计算的不确定性度量。\n",
    "\n",
    "8. $a=\\underset{a \\in \\mathcal{A}}{\\operatorname{argmax}}[\\hat{Q}(a)+\\hat{U}(a)]$:\n",
    "   这是上置信界算法的核心。它选择那个动作 $a$，该动作的估计奖励值和不确定性之和最大。\n",
    "\n",
    "9. $p=\\frac{1}{t}$:\n",
    "   这是一个随时间递减的概率值。随着时间的推移，我们对老虎机的了解越来越多，所以 $p$ 会递减。\n",
    "\n",
    "10. $\\hat{U}_{t}(a)=\\sqrt{\\frac{\\log t}{2\\left(N_{t}(a)+1\\right)}}$:\n",
    "   这是考虑到了每根拉杆被拉动的次数的不确定性度量的另一个版本。\n",
    "\n",
    "11. $a=\\arg \\max _{a \\in \\mathcal{A}} \\hat{Q}(a)+c \\cdot \\hat{U}(a)$:\n",
    "   这是一个考虑到系数 $c$ 的上置信界算法的版本。系数 $c$ 控制不确定性的比重。\n",
    "  "
   ]
  },
  {
   "cell_type": "markdown",
   "id": "7b2c1199",
   "metadata": {},
   "source": [
    "上置信界 (upper confidence bound，UCB）算法是一种经典的基于不确定性的策略算法，它的思想用到了一个非常著名的数学原理: 霍夫丁不等式 (Hoeffding's inequality) 。在霍夫丁不等式中，令 $X_{1}, \\ldots, X_{n}$ 为 $n$ 个独立同分布的随机变量，取值范围为 [0,1] ，其经验期望为 $\\bar{x}_{n}=\\frac{1}{n} \\sum_{j=1}^{n} X_{j}$，则有\n",
    "\n",
    "$$\n",
    "\\mathbb{P}\\left\\{\\mathbb{E}[X] \\geq \\bar{x}_{n}+u\\right\\} \\leq e^{-2 n u^{2}}\n",
    "$$\n",
    "\n",
    "现在我们将霍夫丁不等式运用于多臂老虎机问题中。将 $\\hat{Q}_{t}(a)$ 代入 $\\bar{x}_{t}$，不等式中的参数 $u=\\hat{U}_{t}(a)$ 代表不确定性度量。给定一个概率 $p=e^{-2 N_{t}(a) U_{t}(a)^{2}}$，根据上述不等式，$Q_{t}(a)<\\hat{Q}_{t}(a)+\\hat{U}_{t}(a)$ 至少以概率 $1-p$ 成立。当 $p$ 很小时，$Q_{t}(a)<\\hat{Q}_{t}(a)+\\hat{U}_{t}(a)$ 就以很大概率成立，$\\hat{Q}_{t}(a)+\\hat{U}_{t}(a)$ 便是期望奖励上界。此时，上置信界算法便选取期望奖励上界最大的动作，即 $a=\\underset{a \\in \\mathcal{A}}{\\operatorname{argmax}}[\\hat{Q}(a)+\\hat{U}(a)]$。那其中 $\\hat{U}_{t}(a)$ 具体是什么呢? 根据等式 $e^{-2 N_{t}(a) U_{t}(a)^{2}}$，解之即得 $\\hat{U}_{t}(a)=\\sqrt{\\frac{-\\log p}{2 N_{t}(a)}}$。因此，设定一个概率 $p$ 后，就可以计算相应的不确定性度量 $\\hat{U}_{t}(a)$ 了。更直观地说，UCB 算法在每次选择拉杆前，先估计每根拉杆的期望奖励的上界，使得拉动每根拉杆的期望奖励只有一个较小的概率 $p$ 超过这个上界，接着选出期望奖励上界最大的拉杆，从而选择最有可能获得最大期望奖励的拉杆。\n",
    "\n",
    "我们编写代码来实现 UCB 算法，并且仍然使用 2.2.4 节定义的 10 臂老虎机来观察实验结果。在具体的实现过程中，设置 $p=\\frac{1}{t}$，并且在分母中为拉动每根拉杆的次数加上常数 1，以免出现分母为 0 的情形，即此时 $\\hat{U}_{t}(a)=\\sqrt{\\frac{\\log t}{2\\left(N_{t}(a)+1\\right)}}$。同时，我们设定一个系数 $c$ 来控制不确定性的比重，此时 $a=\\arg \\max _{a \\in \\mathcal{A}} \\hat{Q}(a)+c \\cdot \\hat{U}(a)$。\n"
   ]
  },
  {
   "cell_type": "markdown",
   "id": "d2a275c8",
   "metadata": {},
   "source": [
    "---"
   ]
  },
  {
   "cell_type": "markdown",
   "id": "9fd0cfb2",
   "metadata": {},
   "source": [
    "### 上置信界算法\n",
    "*——基于不确定性的策略来综合考虑现有的期望奖励估值和不确定性，其核心问题是如何估计不确定性*\n",
    "\n",
    "> **一根拉杆的不确定性越大，它就越具有探索的价值，因为探索之后我们可能发现它的期望奖励很大**\n",
    "\n",
    "引入不确定量度U(a)，随着某一个动作被尝试的次数增加而减小。\n",
    "\n",
    "$$\\bar{x}_{n}=\\frac{1}{n} \\sum_{j=1}^{n} X_{j}$$\n",
    "$$\n",
    "\\mathbb{P}\\left\\{\\mathbb{E}[X] \\geq \\bar{x}_{n}+u\\right\\} \\leq e^{-2 n u^{2}}\n",
    "$$\n",
    "换而言之，$max(\\mathbb{E}[X])$可以把经验期望和不确定度(探索)合并为一个值，具体为：\n",
    "$$\n",
    "\\mathbb{P}\\left\\{Q_{t}(a) \\leqslant \\hat{Q}_{t}(a) + \\hat{U}_{t}(a) \\right\\} \\leq e^{-2n\\hat{U}_{t}(a)^2}\n",
    "$$\n",
    "所以当p很小时，$\\mathbb{E}[X]$是很小概率会超过这个上界，因此被称为\"上置信界\"。\n",
    "根据等式$p= e^{-2 n u^{2}}$，设定概率p，可以求出不确定量度$\\hat{U}_{t}(a)=\\sqrt{\\frac{-\\log p}{2 ( N_{t}(a) +1 )}}$\n",
    "其中+1是为了防止分母为0，将该上界设置为a，同时用一个参数c取设定混合强度(控制不确定性的比重)：\n",
    "$a=\\arg \\max _{a \\in \\mathcal{A}} [ \\hat{Q}(a)+c \\cdot \\hat{U}(a) ]$:"
   ]
  },
  {
   "cell_type": "markdown",
   "id": "babf882e",
   "metadata": {},
   "source": [
    "### UCB算法类：\n",
    "数据结构：\n",
    "- ini_c 初始混合强度\n",
    "- ini_p 初始概率\n",
    "- ini_Qt 初始奖励(期望)\n",
    "- l_Qt 经验奖励\n",
    "- l_n 探索次数\n",
    "- count 运行次数(用于计算p)\n",
    "\n",
    "覆写方法：\n",
    "- get_label ->给Bot添加描述\n",
    "- get_action ->返回下一步骤\n",
    "\n",
    "辅助方法：\n",
    "- get_c 获取混合强度\n",
    "- get_p 获取概率"
   ]
  },
  {
   "cell_type": "code",
   "execution_count": 6,
   "id": "f2c0a38d",
   "metadata": {},
   "outputs": [],
   "source": [
    "class UCB(BotBase):\n",
    "    def __init__(self,bandit,*,ini_c,ini_p=None,ini_Qt=0.1):\n",
    "        super().__init__(bandit)\n",
    "        self.ini_c = ini_c\n",
    "        self.ini_p = ini_p\n",
    "        self.ini_Qt = ini_Qt\n",
    "        self.l_Qt = np.array([ini_Qt]*self.bandit.k)\n",
    "        self.l_n = np.zeros(self.bandit.k)\n",
    "        self.count = 0\n",
    "    \n",
    "    def get_action(self):\n",
    "        p = self.get_p()\n",
    "        c = self.get_c()\n",
    "        ucb = self.l_Qt + c * np.sqrt(-1/2*np.log(p)/(self.l_n+1))\n",
    "        a= np.argmax(ucb)\n",
    "        self.l_n[a]+=1\n",
    "        self.l_Qt[a] += 1/self.l_n[a]*(self.bandit.step(a)-self.l_Qt[a])\n",
    "        \n",
    "        self.count+=1\n",
    "        return a\n",
    "    \n",
    "    def get_label(self):\n",
    "        return f\"Bot-{self.ini_c=}|{self.ini_Qt=}\"\n",
    "        \n",
    "    def get_c(self):\n",
    "        return self.ini_c\n",
    "    \n",
    "    def get_p(self):\n",
    "        return 1/(self.count+1)"
   ]
  },
  {
   "cell_type": "code",
   "execution_count": 7,
   "id": "a0acee42",
   "metadata": {},
   "outputs": [
    {
     "data": {
      "image/png": "[encoded data removed]",
      "text/plain": [
       "<Figure size 640x480 with 1 Axes>"
      ]
     },
     "metadata": {},
     "output_type": "display_data"
    }
   ],
   "source": [
    "bandit = Bandit(10)\n",
    "bots = UCB(bandit,ini_c = 0.1,ini_Qt=0.6)\n",
    "bots.run(50000)\n",
    "plot_regret([bots])"
   ]
  },
  {
   "cell_type": "code",
   "execution_count": 8,
   "id": "f8c92574",
   "metadata": {},
   "outputs": [
    {
     "data": {
      "image/png": "[encoded data removed]",
      "text/plain": [
       "<Figure size 640x480 with 1 Axes>"
      ]
     },
     "metadata": {},
     "output_type": "display_data"
    }
   ],
   "source": [
    "bandit = Bandit(10)\n",
    "bots = UCB(bandit,ini_c = 1,ini_Qt=0.7)\n",
    "bots.run(5000)\n",
    "plot_regret([bots])"
   ]
  },
  {
   "cell_type": "markdown",
   "id": "65e8d9e5",
   "metadata": {},
   "source": [
    "---"
   ]
  },
  {
   "cell_type": "markdown",
   "id": "7a1147c7",
   "metadata": {},
   "source": [
    "汤普森采样（Thompson Sampling）和上置信界（Upper Confidence Bound, UCB）算法都是多臂老虎机问题中的策略，用于平衡探索与利用的权衡。但它们的策略和思路有所不同。以下是它们的主要区别、优点和缺点：\n",
    "\n",
    "### 1. 汤普森采样 (Thompson Sampling)：\n",
    "\n",
    "**策略**：\n",
    "- 基于每个动作的历史奖励维护一个概率分布。\n",
    "- 在每次决策时，从每个动作的概率分布中随机抽取一个样本。\n",
    "- 选择具有最大样本值的动作。\n",
    "\n",
    "**优点**：\n",
    "- 自然地平衡了探索与利用。\n",
    "- 可以直接应用于非平稳环境（即奖励分布可能会随时间变化）。\n",
    "- 能够处理各种不同的先验知识和信仰。\n",
    "\n",
    "**缺点**：\n",
    "- 对于某些问题，可能需要更复杂的计算来更新后验概率或抽取样本。\n",
    "\n",
    "### 2. 上置信界算法 (Upper Confidence Bound, UCB)：\n",
    "\n",
    "**策略**：\n",
    "- 基于每个动作的历史奖励和探索次数计算一个置信上界。\n",
    "- 在每次决策时，选择具有最大置信上界的动作。\n",
    "\n",
    "**优点**：\n",
    "- 确定性策略，不涉及随机选择。\n",
    "- 在实践中效果很好，尤其是当需要减少不必要的探索时。\n",
    "- 计算简单，不需要维护完整的概率分布。\n",
    "\n",
    "**缺点**：\n",
    "- 依赖于一个调整参数（通常表示为 \\(c\\)），该参数控制探索与利用之间的权衡，可能需要手动调整。\n",
    "- 主要适用于平稳环境，即奖励分布在问题的生命周期中是恒定的。\n",
    "\n",
    "### 汇总：\n",
    "\n",
    "1. **方法**：UCB 使用确定性策略，而汤普森采样则使用基于概率的方法。\n",
    "2. **灵活性**：汤普森采样提供了更大的灵活性，可以处理不同的信仰和先验知识。\n",
    "3. **计算复杂性**：UCB 通常计算上更简单。\n",
    "4. **适用性**：汤普森采样可能更适合非平稳环境。\n",
    "\n",
    "在实际应用中，选择哪种策略取决于具体的问题和可用的资源。在某些情况下，UCB 的性能可能更好，而在其他情况下，汤普森采样可能是更佳的选择。"
   ]
  },
  {
   "cell_type": "markdown",
   "id": "d31cc1ca",
   "metadata": {},
   "source": [
    "---"
   ]
  },
  {
   "cell_type": "markdown",
   "id": "2e067406",
   "metadata": {},
   "source": [
    "### Beta分布\n",
    "1. 点估计：\n",
    "如果您玩了几轮后，觉得第一个拉杆赢的概率是60%，第二个是70%，第三个是80%。这些数字就是您对每个拉杆赢的概率的“点估计”。\n",
    "2. 概率分布：\n",
    "但是，假设您并不完全确定这些数字。您可能认为第一个拉杆赢的概率在50%到70%之间，但最可能是60%。第二个拉杆可能在60%到80%之间，最可能是70%。第三个拉杆可能在70%到90%之间，最可能是80%。这些“范围”或“不确定性”就是您为每个拉杆的奖励概率维护的“概率分布”\n",
    "\n",
    ">原本的点估计中，P(prob[1]=60%)的问题，在概率分布中，变成了P(P(prob[1]=60%))，这实际上是计算概率的概率，通常用概率分布：\n",
    "[3B1B-概率密度分布](https://www.bilibili.com/video/BV1ga4y147sC/?vd_source=00ab71ce03e4be32d03a92b0f0eae93e)\n",
    "\n",
    "\n",
    "\n",
    "\n",
    "\n",
    "\n"
   ]
  },
  {
   "cell_type": "markdown",
   "id": "17934bcd",
   "metadata": {},
   "source": [
    "### 似然函数\n",
    "\n",
    "$$ \n",
    "\\begin{array}{l}P(\\text { data } \\mid \\theta) \\propto \\theta^{z}(1-\\theta)^{N-z} \\\\ z=\\sum_{i=1}^{N} X_{i}\\end{array} \n",
    "$$\n",
    "\n",
    "这是贝叶斯统计中的似然函数（Likelihood function）表示，用于描述观测数据在给定参数 $\\theta$ 下的概率。\n",
    "\n",
    "给定的公式描述了一个二项分布的似然函数。在这里的上下文中，假设您进行了 $N$ 次独立的试验，并且在每次试验中都观测到了某种事件发生（例如，投掷硬币得到正面）。$X_i$ 是第 $ i $ 次试验的结果，它是一个二进制变量，如果事件发生则为1，否则为0。$z$ 是这 $N$ 次试验中事件发生的次数。\n",
    "\n",
    "公式中的两部分解释如下：\n",
    "\n",
    "1. $P(\\text { data } \\mid \\theta)$：这是似然函数，表示给定参数 $\\theta$（在这里是事件发生的概率）下观测到数据的概率。\n",
    "2. $\\theta^{z}(1-\\theta)^{N-z}$：这描述了在 $N$ 次试验中，事件恰好发生 $z$ 次的概率。\n",
    "\n",
    "这个似然函数是为了估计 $\\theta$ - 事件发生的真实概率。通常，您会选择那个使得观测到的数据最有可能出现的 $\\theta$ 值，这就是所谓的最大似然估计（Maximum Likelihood Estimation, MLE）。\n",
    "\n",
    "在贝叶斯统计中，这个似然函数还会与一个先验分布（表示在观测数据之前关于 $\\theta$ 的信仰或知识）相结合，以得到一个后验分布，描述了观测数据后对 $\\theta$ 的信仰或知识。\n"
   ]
  },
  {
   "cell_type": "markdown",
   "id": "cb23c9f2",
   "metadata": {},
   "source": [
    "---"
   ]
  },
  {
   "cell_type": "markdown",
   "id": "bdf1e594",
   "metadata": {},
   "source": [
    "### 似然函数--通俗解释\n",
    "似然函数是指，给定p的情况下(作为参数$\\theta$)，观察到$data$的概率，对于二项分布$ \\theta^{z}(1-\\theta)^{N-z} $作为事件恰好发生z次的概率。\n",
    "在贝叶斯统计中，似然函数为：\n",
    "$$ \\begin{array}{l}P(\\text { data } \\mid \\theta) \\propto \\theta^{z}(1-\\theta)^{N-z} \\\\ z=\\sum_{i=1}^{N} X_{i}\\end{array} $$\n",
    "其中参数为 $ \\theta $ 下的概率\n",
    "\n",
    "在贝叶斯统计中，这个似然函数还会与一个先验分布（表示在观测数据之前关于 $ \\theta $ 的信仰或知识）相结合，以得到一个后验分布，描述了观测数据后对 $ \\theta $ 的信仰或知识\n"
   ]
  },
  {
   "cell_type": "markdown",
   "id": "5a628f90",
   "metadata": {},
   "source": [
    "---"
   ]
  },
  {
   "cell_type": "markdown",
   "id": "793b5aed",
   "metadata": {},
   "source": [
    "### 机器学习-贝叶斯统计学\n",
    "固有概率开始（事前），我们称之为先验概率，当我们获得新的观察结果和证据时，我们会在这些证据和判断我们当前情况的可能性的基础上更新我们的信念，这种更新的信念被称为后验概率（事后）\n",
    "$$\n",
    "\\operatorname{Pr}(\\Theta=\\theta \\mid X=x) \\propto \\operatorname{Pr}(X=x \\mid \\Theta=\\theta) \\operatorname{Pr}(\\Theta=\\theta)\n",
    "$$\n",
    "这是贝叶斯定理的一个表示，用于描述在给定观测数据 $X = x$ 的条件下，参数 $\\Theta$ 的概率分布。\n",
    "\n",
    "1. $\\operatorname{Pr}(\\Theta=\\theta \\mid X=x)$：这是后验概率，表示在给定观测数据 $X = x$ 的条件下，参数 $\\Theta$ 取值为 $\\theta$ 的概率。这是我们在观测数据后想要计算的。\n",
    "  \n",
    "2. $\\operatorname{Pr}(X=x \\mid \\Theta=\\theta)$：这是似然函数，表示在 $\\Theta = \\theta$ 的条件下，观测到数据 $X = x$ 的概率。它描述了给定模型参数的情况下，数据的生成过程。\n",
    "\n",
    "3. $\\operatorname{Pr}(\\Theta=\\theta)$：这是先验概率，表示在观测数据之前，我们认为参数 $\\Theta$ 取值为 $\\theta$ 的概率。这通常是基于先前的知识或信仰。\n",
    "\n",
    "4. $\\propto$：“正比于”。贝叶斯定理的完整形式还包括一个归一化常数，确保后验概率的总和（或积分，对于连续变量）为1\n",
    "\n",
    "---\n",
    "\n",
    "怀疑贝叶斯机器学习方法的相对薄弱是因为： \n",
    "\n",
    "- 大多数机器学习都是在“大数据”的背景下完成的，而贝叶斯模型的特征——先验——实际上并没有发挥多大作用。\n",
    "\n",
    "- 在贝叶斯模型中采样后验分布计算量大且速度慢\n",
    "\n",
    "一些机器学习技术，如高斯过程和简单线性回归，都有贝叶斯和非贝叶斯版本。也有纯频率的算法（如支持向量机、随机森林）和纯贝叶斯的算法（如变分推理、期望最大化）\n",
    "> **没有先验的信念，贝叶斯推理似乎是不合适的**"
   ]
  },
  {
   "cell_type": "markdown",
   "id": "afbd560c",
   "metadata": {},
   "source": [
    "---"
   ]
  },
  {
   "cell_type": "markdown",
   "id": "ccd34c6d",
   "metadata": {},
   "source": [
    "### 汤普森采样算法\n",
    "MAB 中还有一种经典算法——汤普森采样（Thompson sampling），先假设拉动每根拉杆的奖励服从一个特定的概率分布，然后根据拉动每根拉杆的期望奖励来进行选择\n",
    "但是由于计算所有拉杆的期望奖励的代价比较高，汤普森采样算法使用采样的方式，即根据当前每个动作$a$的奖励概率分布进行一轮采样，得到一组各根拉杆的奖励样本，再选择样本中奖励最大的动作\n",
    "——可以看出，汤普森采样是一种计算所有拉杆的最高奖励概率的蒙特卡洛采样方法\n",
    "\n",
    "> 在实际情况中，我们通常用 Beta 分布对当前每个动作的奖励概率分布进行建模\n",
    "\n",
    "#### 问题：为何不在最高点采样？而使用随机数\n",
    "您提到的在Beta分布的最高点采样实际上是选择Beta分布的众数。对于Beta分布，众数（即最高点）的计算公式为：\n",
    "\n",
    "$$\n",
    "\\text{mode} = \\frac{\\alpha - 1}{\\alpha + \\beta - 2}\n",
    "$$\n",
    "\n",
    "但在多臂老虎机问题中，总是选择Beta分布的最高点并不是最佳策略，原因如下：\n",
    "\n",
    "1. **探索与利用的平衡**：如果我们总是选择Beta分布的最高点，那么我们实际上是在“利用”当前的信息来最大化即时奖励。这意味着我们可能会过早地偏向于某个看似最佳的拉杆，并忽略其他可能在长远来看更有价值的拉杆。通过随机采样，我们可以在“探索”（尝试不同的拉杆）和“利用”之间找到平衡。\n",
    "\n",
    "2. **考虑不确定性**：在多臂老虎机问题的初期，我们对每个拉杆的真实奖励分布的了解很有限。即使某个拉杆的Beta分布的最高点目前是最高的，但由于样本量小，这可能只是随机噪声的结果。通过随机采样，我们可以考虑到这种不确定性，并给予其他拉杆被尝试的机会。\n",
    "\n",
    "3. **适应性**：多臂老虎机的环境可能会随着时间而改变。某个拉杆在初期可能表现得很好，但随着时间的推移，它的表现可能会下降。如果我们总是选择Beta分布的最高点，我们可能会错过这种变化。通过随机采样，我们可以更容易地适应这种变化。\n",
    "\n",
    "总的来说，虽然在某些情境下选择Beta分布的最高点可能是合理的，但在多臂老虎机问题中，随机采样通常会得到更好的长远结果，因为它能够在探索和利用之间找到平衡，并考虑到不确定性。"
   ]
  },
  {
   "cell_type": "markdown",
   "id": "5cf8dfeb",
   "metadata": {},
   "source": [
    "### 汤普森采样算法--类设计\n",
    "数据结构：\n",
    "- l_1 表示奖励为1的次数\n",
    "- l_0 表示奖励为0的次数\n",
    "\n",
    "方法：\n",
    "- get_action ->覆写：返回下一次的动作\n",
    "- get_label ->覆写：返回标签\n",
    "- show_beta 展示l_1和l_0的beta分布"
   ]
  },
  {
   "cell_type": "code",
   "execution_count": 9,
   "id": "19d88532",
   "metadata": {},
   "outputs": [],
   "source": [
    "#函数：绘制Beta分布\n",
    "def plot_beta(a, b):\n",
    "    \"\"\"\n",
    "    绘制Beta分布的概率密度函数。\n",
    "    \n",
    "    参数:\n",
    "        a (list or numpy array): Alpha 参数列表\n",
    "        b (list or numpy array): Beta 参数列表\n",
    "    \"\"\"\n",
    "    # 设定x轴的范围\n",
    "    x = np.linspace(0, 1, 1000)\n",
    "    \n",
    "    plt.figure(figsize=(10, 6))\n",
    "    \n",
    "    # 对每一对参数(a, b)，绘制Beta分布的概率密度函数\n",
    "    for i in range(len(a)):\n",
    "        y = (x ** (a[i] - 1)) * ((1 - x) ** (b[i] - 1))\n",
    "        y /= y.sum() * (x[1] - x[0])  # 归一化\n",
    "        plt.plot(x, y, label=f\"α={a[i]}, β={b[i]}\")\n",
    "    \n",
    "    plt.title(\"Beta 分布\")\n",
    "    plt.xlabel(\"x\")\n",
    "    plt.ylabel(\"密度\")\n",
    "    plt.legend()\n",
    "    plt.grid(True)\n",
    "    plt.show()"
   ]
  },
  {
   "cell_type": "code",
   "execution_count": 27,
   "id": "348e7392",
   "metadata": {},
   "outputs": [],
   "source": [
    "class TMS(BotBase):\n",
    "    def __init__(self,bandit,*,ini_p = 0.1): #先验概率\n",
    "        super().__init__(bandit)\n",
    "        self.ini_1 = int(10*ini_p)\n",
    "        self.ini_0 = int(10*(1-ini_p))\n",
    "        self.l_1 = np.array([self.ini_1]*self.bandit.k)\n",
    "        self.l_0 = np.array([self.ini_0]*self.bandit.k)\n",
    "        \n",
    "    def get_action(self):\n",
    "        l_beta = np.random.beta(self.l_1,self.l_0)\n",
    "        k = np.argmax(l_beta)\n",
    "        r = self.bandit.step(k)\n",
    "        \n",
    "        self.l_1[k]+=r\n",
    "        self.l_0[k]+=1-r\n",
    "        return k\n",
    "    \n",
    "    def get_label(self):\n",
    "        return 'Bot-max_1={np.argmax(self.l_1)}'\n",
    "    \n",
    "    def show_beta(self):\n",
    "        plot_beta(self.l_1,self.l_0)"
   ]
  },
  {
   "cell_type": "code",
   "execution_count": 28,
   "id": "ef1d8afe",
   "metadata": {},
   "outputs": [
    {
     "data": {
      "image/png": "[encoded data removed]",
      "text/plain": [
       "<Figure size 640x480 with 1 Axes>"
      ]
     },
     "metadata": {},
     "output_type": "display_data"
    }
   ],
   "source": [
    "bandit = Bandit(10)\n",
    "bots = TMS(bandit,ini_p = 0.5)\n",
    "bots.run(500)\n",
    "plot_regret([bots])"
   ]
  },
  {
   "cell_type": "markdown",
   "id": "9cf5802c",
   "metadata": {},
   "source": [
    "### 总结：\n",
    "探索与利用是与环境做交互学习的重要问题，是强化学习试错法中的必备技术，而多臂老虎机问题是研究探索与利用技术理论的最佳环境。了解多臂老虎机的探索与利用问题，对接下来我们学习强化学习环境探索有很重要的帮助。对于多臂老虎机各种算法的累积懊悔理论分析，有兴趣的同学可以自行查阅相关资料。 -贪婪算法、上置信界算法和汤普森采样算法在多臂老虎机问题中十分常用，其中上置信界算法和汤普森采样方法均能保证对数的渐进最优累积懊悔。\n",
    "\n",
    "多臂老虎机问题与强化学习的一大区别在于其与环境的交互并不会改变环境，即多臂老虎机的每次交互的结果和以往的动作无关，所以可看作无状态的强化学习（stateless reinforcement learning）。第 3 章将开始在有状态的环境下讨论强化学习，即马尔可夫决策过程"
   ]
  },
  {
   "cell_type": "code",
   "execution_count": null,
   "id": "3526ae28",
   "metadata": {},
   "outputs": [],
   "source": []
  }
 ],
 "metadata": {
  "kernelspec": {
   "display_name": "Python 3 (ipykernel)",
   "language": "python",
   "name": "python3"
  },
  "language_info": {
   "codemirror_mode": {
    "name": "ipython",
    "version": 3
   },
   "file_extension": ".py",
   "mimetype": "text/x-python",
   "name": "python",
   "nbconvert_exporter": "python",
   "pygments_lexer": "ipython3",
   "version": "3.11.5"
  }
 },
 "nbformat": 4,
 "nbformat_minor": 5
}
